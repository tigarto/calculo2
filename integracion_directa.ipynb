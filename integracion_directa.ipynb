{
 "cells": [
  {
   "cell_type": "code",
   "execution_count": 38,
   "metadata": {
    "collapsed": true
   },
   "outputs": [],
   "source": [
    "from IPython.display import display, Latex, Math, HTML, IFrame\n",
    "from IPython.display import Markdown as md\n",
    "from sympy import *\n",
    "x, y, z, u = symbols('x y z u')"
   ]
  },
  {
   "cell_type": "markdown",
   "source": [
    "# Integracion directa\n",
    "\n",
    "## Integral indefinida\n",
    "\n",
    "La integral indefinida es simplemente una notación para la antiderivada. Es decir, si $F(x)$ es la antiderivada de $f(x)$, denotamos:\n",
    "\n",
    "$$F(x)= \\int{f(x)}dx$$\n",
    "\n",
    "Por lo tanto:\n",
    "\n",
    "* $\\frac{d}{dx}\\int{fx}dx=F'(x) = f(x)$\n",
    "* $\\int{f(x)}dx +C$ es la antiderivada más general de $f(x)$\n",
    "\n",
    "\n",
    "\n",
    "\n",
    "Resolver las siguientes integrales:\n",
    "1. $\\int{dx}$"
   ],
   "metadata": {
    "collapsed": false,
    "pycharm": {
     "name": "#%% md\n"
    }
   }
  },
  {
   "cell_type": "code",
   "execution_count": 31,
   "outputs": [
    {
     "data": {
      "text/plain": "x",
      "text/latex": "$\\displaystyle x$"
     },
     "metadata": {},
     "output_type": "display_data"
    }
   ],
   "source": [
    "y = 1\n",
    "r1 = integrate(y,x)\n",
    "display(r1)"
   ],
   "metadata": {
    "collapsed": false,
    "pycharm": {
     "name": "#%%\n"
    }
   }
  },
  {
   "cell_type": "markdown",
   "source": [
    "2. $\\int{\\frac{1}{x^5}}dx$"
   ],
   "metadata": {
    "collapsed": false
   }
  },
  {
   "cell_type": "code",
   "execution_count": 30,
   "outputs": [
    {
     "data": {
      "text/plain": "-1/(4*x**4)",
      "text/latex": "$\\displaystyle - \\frac{1}{4 x^{4}}$"
     },
     "metadata": {},
     "output_type": "display_data"
    }
   ],
   "source": [
    "y = 1/x**5\n",
    "r2 = integrate(y,x)\n",
    "display(r2)"
   ],
   "metadata": {
    "collapsed": false,
    "pycharm": {
     "name": "#%%\n"
    }
   }
  },
  {
   "cell_type": "markdown",
   "source": [
    "3. $\\int{\\sqrt{x}}dx$"
   ],
   "metadata": {
    "collapsed": false
   }
  },
  {
   "cell_type": "code",
   "execution_count": 32,
   "outputs": [
    {
     "data": {
      "text/plain": "2*x**(3/2)/3",
      "text/latex": "$\\displaystyle \\frac{2 x^{\\frac{3}{2}}}{3}$"
     },
     "metadata": {},
     "output_type": "display_data"
    }
   ],
   "source": [
    "y = sqrt(x)\n",
    "r3 = integrate(y,x)\n",
    "display(r3)"
   ],
   "metadata": {
    "collapsed": false,
    "pycharm": {
     "name": "#%%\n"
    }
   }
  },
  {
   "cell_type": "markdown",
   "source": [
    "4. $\\int{\\left(4x - \\frac{2}{x} + 5\\sin(x)\\right)}dx$"
   ],
   "metadata": {
    "collapsed": false
   }
  },
  {
   "cell_type": "code",
   "execution_count": 33,
   "outputs": [
    {
     "data": {
      "text/plain": "2*x**2 - 2*log(x) - 5*cos(x)",
      "text/latex": "$\\displaystyle 2 x^{2} - 2 \\log{\\left(x \\right)} - 5 \\cos{\\left(x \\right)}$"
     },
     "metadata": {},
     "output_type": "display_data"
    }
   ],
   "source": [
    "y = 4*x -2/x + 5*sin(x)\n",
    "r4 = integrate(y,x)\n",
    "display(r4)"
   ],
   "metadata": {
    "collapsed": false,
    "pycharm": {
     "name": "#%%\n"
    }
   }
  },
  {
   "cell_type": "markdown",
   "source": [
    "5. $\\int{\\frac{6x^3-5}{x}}dx$"
   ],
   "metadata": {
    "collapsed": false
   }
  },
  {
   "cell_type": "code",
   "execution_count": 34,
   "outputs": [
    {
     "data": {
      "text/plain": "2*x**3 - 5*log(x)",
      "text/latex": "$\\displaystyle 2 x^{3} - 5 \\log{\\left(x \\right)}$"
     },
     "metadata": {},
     "output_type": "display_data"
    }
   ],
   "source": [
    "y = (6*x**3-5)/x\n",
    "r5 = integrate(y,x)\n",
    "display(r5)"
   ],
   "metadata": {
    "collapsed": false,
    "pycharm": {
     "name": "#%%\n"
    }
   }
  },
  {
   "cell_type": "markdown",
   "source": [
    "6. $\\int{\\sqrt{x}\\left(x^2 - \\frac{1}{x}\\right)}dx$\n",
    "\n",
    "### Integración de una función racional\n",
    "\n",
    "Suponga que $f(x)=p(x)⁄q(x)$ es una fracción racional. Si el grado de la función polinomial $p(x)$ es mayor o igual que el grado de $q(x)$, use la división larga antes de integrar; es decir, escriba:\n",
    "\n",
    "$$\\frac{p(x)}{q(x)}=polinomio+ \\frac{r(x)}{(q(x)}$$\n",
    "\n",
    "Donde el grado de $r(x)$ es menor que el grado de $q(x)$.\n",
    "\n",
    "#### Pasos\n",
    "1.\tMirar el grado del numerador y el denominador.\n",
    "2.\tSi el grado del numerador es mayor o igual que el del denominador, dividir.\n",
    "\n",
    "**Nota**: Primero organice numerador y denominador en orden descendente.\n",
    "\n",
    "**Ejemplos**\n",
    "\n",
    "Realizar las siguientes divisiones:\n",
    "\n",
    "1. $\\frac{6x^5-5x^3-35x-14x^2+23x^4+20}{3x^3-5+x^2}$"
   ],
   "metadata": {
    "collapsed": false
   }
  },
  {
   "cell_type": "code",
   "execution_count": 41,
   "outputs": [
    {
     "data": {
      "text/plain": "2*x**2 + 7*x - 4",
      "text/latex": "$\\displaystyle 2 x^{2} + 7 x - 4$"
     },
     "execution_count": 41,
     "metadata": {},
     "output_type": "execute_result"
    }
   ],
   "source": [
    "num = 6*x**5-5*x**3-35*x-14*x**2+23*x**4+20\n",
    "den = 3*x**3-5+x**2\n",
    "q,r = div(num,den, domain='QQ')\n",
    "(q + r/den).expand()"
   ],
   "metadata": {
    "collapsed": false,
    "pycharm": {
     "name": "#%%\n"
    }
   }
  },
  {
   "cell_type": "markdown",
   "source": [
    "2. $\\frac{37u^3-15u-8u^2-20u^5}{4u^2-5}$"
   ],
   "metadata": {
    "collapsed": false
   }
  },
  {
   "cell_type": "code",
   "execution_count": 40,
   "outputs": [
    {
     "data": {
      "text/plain": "-5*u**3 + 3*u - 2 - 10/(4*u**2 - 5)",
      "text/latex": "$\\displaystyle - 5 u^{3} + 3 u - 2 - \\frac{10}{4 u^{2} - 5}$"
     },
     "execution_count": 40,
     "metadata": {},
     "output_type": "execute_result"
    }
   ],
   "source": [
    "num = 37*u**3-15*u-8*u**2-20*u**5\n",
    "den = 4*u**2-5\n",
    "q,r = div(num,den, domain='QQ')\n",
    "(q + r/den).expand()"
   ],
   "metadata": {
    "collapsed": false,
    "pycharm": {
     "name": "#%%\n"
    }
   }
  },
  {
   "cell_type": "markdown",
   "source": [
    "**Ejemplo**\n",
    "\n",
    "Evalúe las siguientes integrales:\n",
    "\n",
    "1. \t$\\int{\\frac{x^2}{1+x^2}}dx$"
   ],
   "metadata": {
    "collapsed": false
   }
  },
  {
   "cell_type": "code",
   "execution_count": 42,
   "outputs": [
    {
     "data": {
      "text/plain": "x - atan(x)",
      "text/latex": "$\\displaystyle x - \\operatorname{atan}{\\left(x \\right)}$"
     },
     "metadata": {},
     "output_type": "display_data"
    }
   ],
   "source": [
    "y = x**2/(1+x**2)\n",
    "r7 = integrate(y,x)\n",
    "display(r7)"
   ],
   "metadata": {
    "collapsed": false,
    "pycharm": {
     "name": "#%%\n"
    }
   }
  },
  {
   "cell_type": "markdown",
   "source": [],
   "metadata": {
    "collapsed": false
   }
  },
  {
   "cell_type": "markdown",
   "source": [
    "## Enlaces\n",
    "* https://www.yu.edu/sites/default/files/inline-files/Lec14_sympy.pdf\n",
    "* https://scipy-lectures.org/packages/sympy.html\n",
    "* https://dynamics-and-control.readthedocs.io/en/latest/0_Getting_Started/Notebook%20introduction.html\n",
    "* https://vknight.org/pfm/tools-for-mathematics/03-calculus/how/main.html"
   ],
   "metadata": {
    "collapsed": false,
    "pycharm": {
     "name": "#%% md\n"
    }
   }
  }
 ],
 "metadata": {
  "kernelspec": {
   "display_name": "Python 3",
   "language": "python",
   "name": "python3"
  },
  "language_info": {
   "codemirror_mode": {
    "name": "ipython",
    "version": 2
   },
   "file_extension": ".py",
   "mimetype": "text/x-python",
   "name": "python",
   "nbconvert_exporter": "python",
   "pygments_lexer": "ipython2",
   "version": "2.7.6"
  }
 },
 "nbformat": 4,
 "nbformat_minor": 0
}