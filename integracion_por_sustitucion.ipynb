{
 "cells": [
  {
   "cell_type": "code",
   "execution_count": 46,
   "metadata": {
    "collapsed": true
   },
   "outputs": [],
   "source": [
    "from IPython.display import display, Latex, Math, HTML, IFrame\n",
    "from IPython.display import Markdown as md\n",
    "from sympy import *\n"
   ]
  },
  {
   "cell_type": "markdown",
   "source": [
    "# Integracion por sustitución\n",
    "\n",
    "## Regla de la sustitución o cambio de variable\n",
    "\n",
    "Existen integrales que no pueden ser resueltas mediante integración directa:\n",
    "\n",
    "$$\\int{2x\\sqrt{1+x^2}}dx$$\n",
    "\n",
    "En casos como los anteriores lo que se realiza es un cambio de variable para transformar la expresión original en una expresión que pueda ser resuelta empleando el método de integración directa.\n",
    "\n",
    "## Método de sustitución o cambio de variable\n",
    "\n",
    "> **Teorema - Regla de la sustitución**:\n",
    "> Si $u=g(x)$ es una función derivable cuyo rango es un intervalo $I$ y $f$ es continua sobre $I$, entonces:\n",
    ">\n",
    "> $$\\int{f(g(x))g'(x)}dx = \\int{f(u)}du$$\n",
    ">\n",
    "\n",
    "### Estrategia de solución empleando el método de sustitución\n",
    "\n",
    "1. Observe cuidadosamente el integrando y seleccione una expresión dentro del integrando $g(x)$ haciendola igual a $u$. Cuando seleccione $g(x)$ busque que $g'(x)$ sea también parte del integrando.\n",
    "2. Sustituya $u=g(x)$ y $du=g'(x)dx$ de tal manera que la integral quede en términos de $u$.\n",
    "3. Una vez hecho lo anterior, proceda a evaluar la integral con respecto a $u$. Si la integral no puede ser evaluada es necesario devolverse y seleccionar una expresión diferente para $u$.\n",
    "4. Evalué la integral en términos de $u$.\n",
    "5. Recupere la variable de modo que escriba el resultado en términos de $x$ (variable original).\n",
    "\n",
    "#### Ejemplos\n",
    "\n",
    "---\n",
    "1. Obtenga la integral indefinida de la siguiente expresión: $\\int{6x(3x^2+4)^4}dx$\n",
    "---\n",
    "**Solución**: Se elige como sustitución $u=3x^2+4$ de modo que $du=6xdx$"
   ],
   "metadata": {
    "collapsed": false,
    "pycharm": {
     "name": "#%% md\n"
    }
   }
  },
  {
   "cell_type": "code",
   "execution_count": 64,
   "outputs": [
    {
     "data": {
      "text/plain": "u**5/5",
      "text/latex": "$\\displaystyle \\frac{u^{5}}{5}$"
     },
     "metadata": {},
     "output_type": "display_data"
    }
   ],
   "source": [
    "# Integración respecto a u\n",
    "x = symbols('x')\n",
    "u = symbols('u')\n",
    "fu = u**4\n",
    "r = integrate(fu,u)\n",
    "display(r)"
   ],
   "metadata": {
    "collapsed": false,
    "pycharm": {
     "name": "#%%\n"
    }
   }
  },
  {
   "cell_type": "markdown",
   "source": [
    "Luego, retornando a la variable original se tiene que:"
   ],
   "metadata": {
    "collapsed": false
   }
  },
  {
   "cell_type": "code",
   "execution_count": 65,
   "outputs": [
    {
     "data": {
      "text/plain": "(3*x**2 + 4)**5/5",
      "text/latex": "$\\displaystyle \\frac{\\left(3 x^{2} + 4\\right)^{5}}{5}$"
     },
     "metadata": {},
     "output_type": "display_data"
    }
   ],
   "source": [
    "# Recuperación de la variable original\n",
    "display(r.subs(u,3*x**2 + 4))"
   ],
   "metadata": {
    "collapsed": false,
    "pycharm": {
     "name": "#%%\n"
    }
   }
  },
  {
   "cell_type": "markdown",
   "source": [
    "**Solución**:\n",
    "\n",
    "$$\\int{6x(3x^2+4)^4}dx = \\frac{(3x^2+5)^5}{5} + C$$"
   ],
   "metadata": {
    "collapsed": false
   }
  },
  {
   "cell_type": "markdown",
   "source": [
    "---\n",
    "2. Obtenga la integral indefinida de la siguiente expresión: $\\int{\\sqrt{2x+1}}dx$\n",
    "---\n",
    "**Solución**: Se elige como sustitución $u=2x+1$ de modo que $du=2dx$"
   ],
   "metadata": {
    "collapsed": false
   }
  },
  {
   "cell_type": "code",
   "execution_count": 105,
   "outputs": [
    {
     "data": {
      "text/plain": "u**(3/2)/3",
      "text/latex": "$\\displaystyle \\frac{u^{\\frac{3}{2}}}{3}$"
     },
     "metadata": {},
     "output_type": "display_data"
    }
   ],
   "source": [
    "x = symbols('x')\n",
    "u = symbols('u')\n",
    "fu = Rational(1,2)*sqrt(u)\n",
    "ru = integrate(fu,u)\n",
    "display(ru)"
   ],
   "metadata": {
    "collapsed": false,
    "pycharm": {
     "name": "#%%\n"
    }
   }
  },
  {
   "cell_type": "markdown",
   "source": [
    "Luego, retornando a la variable original se tiene que:"
   ],
   "metadata": {
    "collapsed": false
   }
  },
  {
   "cell_type": "code",
   "execution_count": 106,
   "outputs": [
    {
     "data": {
      "text/plain": "(2*x + 1)**(3/2)/3",
      "text/latex": "$\\displaystyle \\frac{\\left(2 x + 1\\right)^{\\frac{3}{2}}}{3}$"
     },
     "metadata": {},
     "output_type": "display_data"
    }
   ],
   "source": [
    "# Recuperación de la variable original\n",
    "display(ru.subs(u,2*x+1))"
   ],
   "metadata": {
    "collapsed": false,
    "pycharm": {
     "name": "#%%\n"
    }
   }
  },
  {
   "cell_type": "markdown",
   "source": [
    "**Solución**:\n",
    "\n",
    "$$\\int{\\sqrt{2x+1}}dx = \\frac{1}{3}(2x+1)^{3/2} + C$$\n",
    "\n",
    "---\n",
    "3. Obtenga la integral indefinida de la siguiente expresión:  $\\int{\\frac{x}{1-4x^2}}dx$\n",
    "---\n",
    "\n",
    "**Solución**: Se elige como sustitución $u=1-4x^2$ de modo que $du=-8xdx$\n"
   ],
   "metadata": {
    "collapsed": false,
    "pycharm": {
     "name": "#%% md\n"
    }
   }
  },
  {
   "cell_type": "code",
   "execution_count": 74,
   "outputs": [
    {
     "data": {
      "text/plain": "-sqrt(u)/4",
      "text/latex": "$\\displaystyle - \\frac{\\sqrt{u}}{4}$"
     },
     "metadata": {},
     "output_type": "display_data"
    }
   ],
   "source": [
    "x = symbols('x')\n",
    "u = symbols('u')\n",
    "fu = -Rational(1,8)/sqrt(u)\n",
    "ru = integrate(fu,u)\n",
    "display(ru)"
   ],
   "metadata": {
    "collapsed": false,
    "pycharm": {
     "name": "#%%\n"
    }
   }
  },
  {
   "cell_type": "markdown",
   "source": [
    "Luego, retornando a la variable original se tiene que:"
   ],
   "metadata": {
    "collapsed": false
   }
  },
  {
   "cell_type": "code",
   "execution_count": 75,
   "outputs": [
    {
     "data": {
      "text/plain": "-sqrt(1 - 4*x**2)/4",
      "text/latex": "$\\displaystyle - \\frac{\\sqrt{1 - 4 x^{2}}}{4}$"
     },
     "metadata": {},
     "output_type": "display_data"
    }
   ],
   "source": [
    "# Recuperación de la variable original\n",
    "display(ru.subs(u,1-4*x**2))"
   ],
   "metadata": {
    "collapsed": false,
    "pycharm": {
     "name": "#%%\n"
    }
   }
  },
  {
   "cell_type": "markdown",
   "source": [
    "\n",
    "**Solución**:\n",
    "\n",
    "$$\\int{\\frac{x}{1-4x^2}}dx = -\\frac{1}{4}\\sqrt{1-4x^2} + C$$"
   ],
   "metadata": {
    "collapsed": false
   }
  },
  {
   "cell_type": "markdown",
   "source": [
    "---\n",
    "4. Obtenga la integral indefinida de la siguiente expresión:  $\\int{e^{5x}}dx$\n",
    "---\n",
    "\n",
    "**Solución**: Se elige como sustitución $u=5x$ de modo que $du=5dx$"
   ],
   "metadata": {
    "collapsed": false
   }
  },
  {
   "cell_type": "code",
   "execution_count": 76,
   "outputs": [
    {
     "data": {
      "text/plain": "exp(u)/5",
      "text/latex": "$\\displaystyle \\frac{e^{u}}{5}$"
     },
     "metadata": {},
     "output_type": "display_data"
    }
   ],
   "source": [
    "x = symbols('x')\n",
    "u = symbols('u')\n",
    "fu = Rational(1,5)*exp(u)\n",
    "ru = integrate(fu,u)\n",
    "display(ru)"
   ],
   "metadata": {
    "collapsed": false,
    "pycharm": {
     "name": "#%%\n"
    }
   }
  },
  {
   "cell_type": "markdown",
   "source": [
    "Luego, retornando a la variable original se tiene que:"
   ],
   "metadata": {
    "collapsed": false
   }
  },
  {
   "cell_type": "code",
   "execution_count": 77,
   "outputs": [
    {
     "data": {
      "text/plain": "exp(5*x)/5",
      "text/latex": "$\\displaystyle \\frac{e^{5 x}}{5}$"
     },
     "metadata": {},
     "output_type": "display_data"
    }
   ],
   "source": [
    "# Recuperación de la variable original\n",
    "display(ru.subs(u,5*x))"
   ],
   "metadata": {
    "collapsed": false,
    "pycharm": {
     "name": "#%%\n"
    }
   }
  },
  {
   "cell_type": "markdown",
   "source": [
    "**Solución**:\n",
    "\n",
    "$$\\int{e^{5x}}dx = \\frac{1}{5}e^{5x} + C$$\n",
    "\n",
    "---\n",
    "5. Obtenga la integral indefinida de la siguiente expresión:  $\\int{\\frac{\\sin{t}}{\\cos^3{t}}}dt$\n",
    "---\n",
    "\n",
    "**Solución**: Se elige como sustitución $u=\\cos{t}$ de modo que $du=-\\sin{t}dt$"
   ],
   "metadata": {
    "collapsed": false
   }
  },
  {
   "cell_type": "code",
   "execution_count": 78,
   "outputs": [
    {
     "data": {
      "text/plain": "1/(2*u**2)",
      "text/latex": "$\\displaystyle \\frac{1}{2 u^{2}}$"
     },
     "metadata": {},
     "output_type": "display_data"
    }
   ],
   "source": [
    "t = symbols('t')\n",
    "u = symbols('u')\n",
    "fu = -1/u**3\n",
    "ru = integrate(fu,u)\n",
    "display(ru)"
   ],
   "metadata": {
    "collapsed": false,
    "pycharm": {
     "name": "#%%\n"
    }
   }
  },
  {
   "cell_type": "markdown",
   "source": [
    "Luego, retornando a la variable original se tiene que:"
   ],
   "metadata": {
    "collapsed": false
   }
  },
  {
   "cell_type": "code",
   "execution_count": 79,
   "outputs": [
    {
     "data": {
      "text/plain": "1/(2*cos(t)**2)",
      "text/latex": "$\\displaystyle \\frac{1}{2 \\cos^{2}{\\left(t \\right)}}$"
     },
     "metadata": {},
     "output_type": "display_data"
    }
   ],
   "source": [
    "# Recuperación de la variable original\n",
    "display(ru.subs(u,cos(t)))"
   ],
   "metadata": {
    "collapsed": false,
    "pycharm": {
     "name": "#%%\n"
    }
   }
  },
  {
   "cell_type": "markdown",
   "source": [
    "**Solución**:\n",
    "\n",
    "$$\\int{\\frac{\\sin{t}}{\\cos^3{t}}}dt = \\frac{1}{2\\cos^2{t}} + C$$\n",
    "\n",
    "---\n",
    "6. Obtenga la integral indefinida de la siguiente expresión:  $\\int{\\sqrt{1+x^2}x^5}dx$\n",
    "---\n",
    "\n",
    "**Solución**: Se elige como sustitución $u=1+x^2$ de modo que $du=2xdx$"
   ],
   "metadata": {
    "collapsed": false,
    "pycharm": {
     "name": "#%% md\n"
    }
   }
  },
  {
   "cell_type": "code",
   "execution_count": null,
   "outputs": [],
   "source": [
    "x = symbols('x')\n",
    "u = symbols('u')\n",
    "fu = Rational(1,2)*sqrt(u)*(u-1)**2\n",
    "ru = integrate(fu,u)\n",
    "ru = simplify(ru).expand()\n",
    "display(ru)"
   ],
   "metadata": {
    "collapsed": false,
    "pycharm": {
     "name": "#%%\n"
    }
   }
  },
  {
   "cell_type": "markdown",
   "source": [
    "Luego, retornando a la variable original se tiene que:"
   ],
   "metadata": {
    "collapsed": false
   }
  },
  {
   "cell_type": "code",
   "execution_count": null,
   "outputs": [],
   "source": [
    "# Recuperación de la variable original\n",
    "display(ru.subs(u,1+x**2))"
   ],
   "metadata": {
    "collapsed": false,
    "pycharm": {
     "name": "#%%\n"
    }
   }
  },
  {
   "cell_type": "markdown",
   "source": [
    "**Solución**:\n",
    "\n",
    "$$\\int{\\sqrt{1+x^2}x^5}dx = \\frac{1}{7}(1+x^2)^{7/2} -\\frac{2}{5}(1+x^2)^{5/2} + \\frac{1}{3}(1+x^2)^{3/2} + C$$\n",
    "\n",
    "---\n",
    "7. Obtenga la integral indefinida de la siguiente expresión:  $\\int{\\tan{x}}dx$\n",
    "---\n",
    "\n",
    "**Solución**: Teniendo en cuenta que $\\tan{x} = \\frac{\\sin{x}}{\\cos{x}}$\n",
    "\n",
    "Se elige como sustitución $u = \\cos{x}$ de modo que $du = -\\sin{x}dx$"
   ],
   "metadata": {
    "collapsed": false
   }
  },
  {
   "cell_type": "code",
   "execution_count": null,
   "outputs": [],
   "source": [
    "x = symbols('x')\n",
    "u = symbols('u')\n",
    "fu = -1/u\n",
    "ru = integrate(fu,u)\n",
    "display(ru)"
   ],
   "metadata": {
    "collapsed": false,
    "pycharm": {
     "name": "#%%\n"
    }
   }
  },
  {
   "cell_type": "markdown",
   "source": [
    "Luego, retornando a la variable original se tiene que:"
   ],
   "metadata": {
    "collapsed": false
   }
  },
  {
   "cell_type": "code",
   "execution_count": null,
   "outputs": [],
   "source": [
    "# Recuperación de la variable original\n",
    "display(ru.subs(u,cos(x)))"
   ],
   "metadata": {
    "collapsed": false,
    "pycharm": {
     "name": "#%%\n"
    }
   }
  },
  {
   "cell_type": "markdown",
   "source": [
    "**Solución**:\n",
    "\n",
    "$$\\int{\\tan{x}}dx = -\\ln{|\\cos{x}|} + C = \\ln{|\\sec{x}|} + C $$\n",
    "\n",
    "---\n",
    "8. Obtenga la integral indefinida de la siguiente expresión:  $\\int{x^2\\sqrt{2x+1}}dx$\n",
    "---\n",
    "\n",
    "**Solución**: Se elige como sustitución $u = 2x + 1$ de modo que $du = 2dx$"
   ],
   "metadata": {
    "collapsed": false
   }
  },
  {
   "cell_type": "code",
   "execution_count": 99,
   "outputs": [
    {
     "data": {
      "text/plain": "u**(7/2)/28 - u**(5/2)/10 + u**(3/2)/12",
      "text/latex": "$\\displaystyle \\frac{u^{\\frac{7}{2}}}{28} - \\frac{u^{\\frac{5}{2}}}{10} + \\frac{u^{\\frac{3}{2}}}{12}$"
     },
     "metadata": {},
     "output_type": "display_data"
    }
   ],
   "source": [
    "x = symbols('x')\n",
    "u = symbols('u')\n",
    "fu = (((1-u)/2)**2)*(sqrt(u))/2\n",
    "ru = simplify(integrate(fu,u)).expand()\n",
    "display(ru)"
   ],
   "metadata": {
    "collapsed": false,
    "pycharm": {
     "name": "#%%\n"
    }
   }
  },
  {
   "cell_type": "markdown",
   "source": [
    "Luego, retornando a la variable original se tiene que:"
   ],
   "metadata": {
    "collapsed": false
   }
  },
  {
   "cell_type": "code",
   "execution_count": 101,
   "outputs": [
    {
     "data": {
      "text/plain": "(2*x + 1)**(7/2)/28 - (2*x + 1)**(5/2)/10 + (2*x + 1)**(3/2)/12",
      "text/latex": "$\\displaystyle \\frac{\\left(2 x + 1\\right)^{\\frac{7}{2}}}{28} - \\frac{\\left(2 x + 1\\right)^{\\frac{5}{2}}}{10} + \\frac{\\left(2 x + 1\\right)^{\\frac{3}{2}}}{12}$"
     },
     "metadata": {},
     "output_type": "display_data"
    }
   ],
   "source": [
    "# Recuperación de la variable original\n",
    "display(ru.subs(u,2*x+1))"
   ],
   "metadata": {
    "collapsed": false,
    "pycharm": {
     "name": "#%%\n"
    }
   }
  },
  {
   "cell_type": "markdown",
   "source": [
    "**Solución**:\n",
    "\n",
    "$$\\int{x^2\\sqrt{2x+1}}dx = \\frac{(2x+1)^{7/2}}{28} - \\frac{(2x+1)^{5/2}}{10} + \\frac{(2x+1)^{3/2}}{12} + C $$\n",
    "\n",
    "\n",
    "---\n",
    "9. Obtenga la integral indefinida de la siguiente expresión:  $\\int{\\frac{{(\\tan^{-1}{x})}^2}{1+x^2}}dx$\n",
    "---\n",
    "\n",
    "**Solución**: Se elige como sustitución $u = \\tan^{-1}{x}$ de modo que $du = \\frac{1}{1+x^2}dx$"
   ],
   "metadata": {
    "collapsed": false
   }
  },
  {
   "cell_type": "code",
   "execution_count": 102,
   "outputs": [
    {
     "data": {
      "text/plain": "u**3/3",
      "text/latex": "$\\displaystyle \\frac{u^{3}}{3}$"
     },
     "metadata": {},
     "output_type": "display_data"
    }
   ],
   "source": [
    "x = symbols('x')\n",
    "u = symbols('u')\n",
    "fu = u**2\n",
    "ru = integrate(fu,u)\n",
    "display(ru)"
   ],
   "metadata": {
    "collapsed": false,
    "pycharm": {
     "name": "#%%\n"
    }
   }
  },
  {
   "cell_type": "markdown",
   "source": [
    "Luego, retornando a la variable original se tiene que:"
   ],
   "metadata": {
    "collapsed": false
   }
  },
  {
   "cell_type": "code",
   "execution_count": 107,
   "outputs": [
    {
     "data": {
      "text/plain": "atan(x)**(3/2)/3",
      "text/latex": "$\\displaystyle \\frac{\\operatorname{atan}^{\\frac{3}{2}}{\\left(x \\right)}}{3}$"
     },
     "metadata": {},
     "output_type": "display_data"
    }
   ],
   "source": [
    "# Recuperación de la variable original\n",
    "display(ru.subs(u,atan(x)))"
   ],
   "metadata": {
    "collapsed": false,
    "pycharm": {
     "name": "#%%\n"
    }
   }
  },
  {
   "cell_type": "markdown",
   "source": [
    "**Solución**: $\\int{\\frac{{(\\tan^{-1}{x})}^2}{1+x^2}}dx = \\frac{1}{3}(\\tan^{-1}{x})^3 + C $\n",
    "\n",
    "## Enlaces\n",
    "* https://www.yu.edu/sites/default/files/inline-files/Lec14_sympy.pdf\n",
    "* https://scipy-lectures.org/packages/sympy.html\n",
    "* https://dynamics-and-control.readthedocs.io/en/latest/0_Getting_Started/Notebook%20introduction.html\n",
    "* https://vknight.org/pfm/tools-for-mathematics/03-calculus/how/main.html\n",
    "* http://prob140.org/sp17/textbook/ch17/Calculus_in_SymPy.html\n",
    "* http://prob140.org/textbook/content/README.html\n",
    "* https://www.math.purdue.edu/~bradfor3/ProgrammingFundamentals/Sympy/\n",
    "* https://scipy-lectures.org/packages/sympy.html\n",
    "* https://dynamics-and-control.readthedocs.io/en/latest/0_Getting_Started/Notebook%20introduction.html\n",
    "* https://towardsdatascience.com/simplify-calculus-for-machine-learning-with-sympy-8a84e57b30bb\n",
    "* https://zetcode.com/python/sympy/\n",
    "* https://colab.research.google.com/github/drvinceknight/Python-Mathematics-Handbook/blob/master/01-Symbolic-mathematics-with-Sympy.ipynb\n",
    "* https://github.com/drvinceknight/Python-Mathematics-Handbook"
   ],
   "metadata": {
    "collapsed": false
   }
  }
 ],
 "metadata": {
  "kernelspec": {
   "display_name": "Python 3",
   "language": "python",
   "name": "python3"
  },
  "language_info": {
   "codemirror_mode": {
    "name": "ipython",
    "version": 2
   },
   "file_extension": ".py",
   "mimetype": "text/x-python",
   "name": "python",
   "nbconvert_exporter": "python",
   "pygments_lexer": "ipython2",
   "version": "2.7.6"
  }
 },
 "nbformat": 4,
 "nbformat_minor": 0
}